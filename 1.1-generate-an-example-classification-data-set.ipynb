{
 "cells": [
  {
   "cell_type": "markdown",
   "metadata": {},
   "source": [
    "# Generating an Example Classification Data Set\n",
    "*Paulo G. Martinez* Tue. Jun. 2nd, 2020\n",
    "\n",
    "In this notebook I'll be doing two things:\n",
    "\n",
    "## 1. Short exploration of sci-kit learn's `make_classification` function\n",
    "Which, generates \"synthetic\" data sets suitable to classification problems \n",
    "\n",
    "## 2. Generating an example of classifiable web-session data\n",
    "Where we could analyze some typical features of a user's session on a website to predict what page they are ultimately looking for."
   ]
  },
  {
   "cell_type": "markdown",
   "metadata": {},
   "source": [
    "Let's start by importing the software packages I'll be using in the rest of the notebook"
   ]
  },
  {
   "cell_type": "code",
   "execution_count": 1,
   "metadata": {},
   "outputs": [],
   "source": [
    "# for plotting\n",
    "import matplotlib.pyplot as plt\n",
    "# for numerical transformations\n",
    "import numpy as np\n",
    "# for data frame (i.e. table) manipulations\n",
    "import pandas as pd\n",
    "# to easily generate a data set with a classification signal in it\n",
    "from sklearn.datasets import make_classification"
   ]
  },
  {
   "cell_type": "markdown",
   "metadata": {},
   "source": [
    "## 1. Short exploration of sci-kit learn's [make_classification](https://scikit-learn.org/stable/modules/generated/sklearn.datasets.make_classification.html) function\n",
    "Many classification problems can be thought of as analyzing the values in a data record to determine if the record is in \"this or that cluster.\" Here is an example where each record simply has a horizontal and vertical coordiante value and a label indicating what class it belongs to. "
   ]
  },
  {
   "cell_type": "code",
   "execution_count": 2,
   "metadata": {},
   "outputs": [],
   "source": [
    "# assign the two outputs of make_classification() to X (the data features) and y (the target)\n",
    "X,y = make_classification(\n",
    "    # declare the number of rows/records/samples we want to generate\n",
    "    n_samples = 1000,\n",
    "    # declare the number of features/columns we want to generate; in this case 2, the horizontal and vertical coordinates.\n",
    "    n_features = 2,\n",
    "    # declare the number of \"repetitive\" features\n",
    "    n_redundant = 0,\n",
    "    # declare the number of \"useful\" features\n",
    "    n_informative = 2,\n",
    "    # set the random seed value so we can reproduce our results in the future, if so desired\n",
    "    random_state = 8,\n",
    "    # declare the number of classes to gennerate\n",
    "    n_classes = 2,\n",
    "    # declare the number of clusters of each class\n",
    "    n_clusters_per_class = 2,\n",
    ")"
   ]
  },
  {
   "cell_type": "code",
   "execution_count": 3,
   "metadata": {},
   "outputs": [
    {
     "name": "stdout",
     "output_type": "stream",
     "text": [
      "[[-1.0683509  -1.43021837]\n",
      " [-0.9700986  -0.73895992]\n",
      " [-1.04143943 -1.34103546]\n",
      " [ 0.53990257  0.52991257]\n",
      " [ 0.09476661 -1.47391848]]\n"
     ]
    }
   ],
   "source": [
    "# X is now an array of 1,000 elements each is a \"record\" with two \"features\" the horizontal and vertical coordiante values\n",
    "print(X[0:5])"
   ]
  },
  {
   "cell_type": "code",
   "execution_count": 4,
   "metadata": {},
   "outputs": [
    {
     "data": {
      "text/plain": [
       "array([0, 0, 0, 0, 1])"
      ]
     },
     "execution_count": 4,
     "metadata": {},
     "output_type": "execute_result"
    }
   ],
   "source": [
    "# and y also has 1,000 elemebts; each record is merely the number of the classes 0 or 1\n",
    "y[:5]"
   ]
  },
  {
   "cell_type": "code",
   "execution_count": 5,
   "metadata": {},
   "outputs": [
    {
     "data": {
      "text/html": [
       "<div>\n",
       "<style scoped>\n",
       "    .dataframe tbody tr th:only-of-type {\n",
       "        vertical-align: middle;\n",
       "    }\n",
       "\n",
       "    .dataframe tbody tr th {\n",
       "        vertical-align: top;\n",
       "    }\n",
       "\n",
       "    .dataframe thead th {\n",
       "        text-align: right;\n",
       "    }\n",
       "</style>\n",
       "<table border=\"1\" class=\"dataframe\">\n",
       "  <thead>\n",
       "    <tr style=\"text-align: right;\">\n",
       "      <th></th>\n",
       "      <th>horizontal_coordinate</th>\n",
       "      <th>vertical_coordinate</th>\n",
       "      <th>TARGET_CLASS</th>\n",
       "    </tr>\n",
       "  </thead>\n",
       "  <tbody>\n",
       "    <tr>\n",
       "      <th>0</th>\n",
       "      <td>-1.068351</td>\n",
       "      <td>-1.430218</td>\n",
       "      <td>0</td>\n",
       "    </tr>\n",
       "    <tr>\n",
       "      <th>1</th>\n",
       "      <td>-0.970099</td>\n",
       "      <td>-0.738960</td>\n",
       "      <td>0</td>\n",
       "    </tr>\n",
       "    <tr>\n",
       "      <th>2</th>\n",
       "      <td>-1.041439</td>\n",
       "      <td>-1.341035</td>\n",
       "      <td>0</td>\n",
       "    </tr>\n",
       "    <tr>\n",
       "      <th>3</th>\n",
       "      <td>0.539903</td>\n",
       "      <td>0.529913</td>\n",
       "      <td>0</td>\n",
       "    </tr>\n",
       "    <tr>\n",
       "      <th>4</th>\n",
       "      <td>0.094767</td>\n",
       "      <td>-1.473918</td>\n",
       "      <td>1</td>\n",
       "    </tr>\n",
       "  </tbody>\n",
       "</table>\n",
       "</div>"
      ],
      "text/plain": [
       "   horizontal_coordinate  vertical_coordinate  TARGET_CLASS\n",
       "0              -1.068351            -1.430218             0\n",
       "1              -0.970099            -0.738960             0\n",
       "2              -1.041439            -1.341035             0\n",
       "3               0.539903             0.529913             0\n",
       "4               0.094767            -1.473918             1"
      ]
     },
     "execution_count": 5,
     "metadata": {},
     "output_type": "execute_result"
    }
   ],
   "source": [
    "# We can put the values in X and y into a data frame\n",
    "toy_df = pd.DataFrame(\n",
    "   data =  {\n",
    "       # index into the first element of every record\n",
    "       'horizontal_coordinate': X[:,0],\n",
    "        # index into the second element of every record\n",
    "       'vertical_coordinate': X[:,1],\n",
    "       # assign\n",
    "       'TARGET_CLASS':y\n",
    "   }\n",
    ")\n",
    "# display the toy data set\n",
    "toy_df.head()"
   ]
  },
  {
   "cell_type": "markdown",
   "metadata": {},
   "source": [
    "### Plotting this example gives us an intuitive sense of how classes can be analyzed as clusters in n-dimensional space\n",
    "In this case, we only used two dimensions."
   ]
  },
  {
   "cell_type": "code",
   "execution_count": 6,
   "metadata": {},
   "outputs": [
    {
     "data": {
      "image/png": "[encoded data removed]",
      "text/plain": [
       "<Figure size 576x576 with 1 Axes>"
      ]
     },
     "metadata": {
      "needs_background": "light"
     },
     "output_type": "display_data"
    }
   ],
   "source": [
    "# use the .plot.scatter() method of the data frame object\n",
    "toy_df.plot.scatter(\n",
    "    x = 'horizontal_coordinate',\n",
    "    y = 'vertical_coordinate',\n",
    "    # set marker colors by values in this column\n",
    "    c = 'TARGET_CLASS',\n",
    "    # give each marker a black outline\n",
    "    edgecolors = 'blue',\n",
    "    # don't display a colorbar\n",
    "    colorbar = False,\n",
    "    # set the size of the plot's figure\n",
    "    figsize = (8,8),\n",
    "    title = 'Generated-Dataset with 2 Features and 2 Clustes per Class\\n (classes differentiated by color)'\n",
    ")\n",
    "plt.show()"
   ]
  },
  {
   "cell_type": "markdown",
   "metadata": {},
   "source": [
    "## 2. Generating an example of classifiable web-session data\n",
    "In the real world, we often have much more than 2 features and sometimes the \"clusters\" can only be properly deterimined when using more than 2 dimensions which means we can't rely on visually intuitive 2-d plots. \n",
    "\n",
    "**Let's generate a simplified example of a user's session on a simplified website**\n",
    "- we'll only \"track\" the hour and weekday the session began,\n",
    "- whether they accessed from a Chrome or Firefox browser,\n",
    "- if the first and second pages they visited were the \"FAQ\" or \"Search\" page\n",
    "- and whether they downloaded one of three possible files on the site"
   ]
  },
  {
   "cell_type": "code",
   "execution_count": 7,
   "metadata": {},
   "outputs": [
    {
     "data": {
      "text/html": [
       "<div>\n",
       "<style scoped>\n",
       "    .dataframe tbody tr th:only-of-type {\n",
       "        vertical-align: middle;\n",
       "    }\n",
       "\n",
       "    .dataframe tbody tr th {\n",
       "        vertical-align: top;\n",
       "    }\n",
       "\n",
       "    .dataframe thead th {\n",
       "        text-align: right;\n",
       "    }\n",
       "</style>\n",
       "<table border=\"1\" class=\"dataframe\">\n",
       "  <thead>\n",
       "    <tr style=\"text-align: right;\">\n",
       "      <th></th>\n",
       "      <th>start_hour</th>\n",
       "      <th>weekday</th>\n",
       "      <th>chrome_browser</th>\n",
       "      <th>firefox_browser</th>\n",
       "      <th>1st_page_search</th>\n",
       "      <th>1st_page_faq</th>\n",
       "      <th>2nd_page_search</th>\n",
       "      <th>2nd_page_faq</th>\n",
       "      <th>TARGET_DOWNLOAD</th>\n",
       "    </tr>\n",
       "  </thead>\n",
       "  <tbody>\n",
       "    <tr>\n",
       "      <th>0</th>\n",
       "      <td>-1.063950</td>\n",
       "      <td>0.182565</td>\n",
       "      <td>-2.941075</td>\n",
       "      <td>-0.329293</td>\n",
       "      <td>-1.260177</td>\n",
       "      <td>0.440198</td>\n",
       "      <td>2.038754</td>\n",
       "      <td>-1.827899</td>\n",
       "      <td>0</td>\n",
       "    </tr>\n",
       "    <tr>\n",
       "      <th>1</th>\n",
       "      <td>-1.484310</td>\n",
       "      <td>1.312075</td>\n",
       "      <td>-1.412113</td>\n",
       "      <td>-1.026644</td>\n",
       "      <td>-0.470754</td>\n",
       "      <td>-1.881764</td>\n",
       "      <td>0.989940</td>\n",
       "      <td>-2.645217</td>\n",
       "      <td>0</td>\n",
       "    </tr>\n",
       "    <tr>\n",
       "      <th>2</th>\n",
       "      <td>-1.608478</td>\n",
       "      <td>3.048350</td>\n",
       "      <td>0.832231</td>\n",
       "      <td>1.657103</td>\n",
       "      <td>0.191061</td>\n",
       "      <td>-3.174086</td>\n",
       "      <td>-1.068688</td>\n",
       "      <td>-0.817976</td>\n",
       "      <td>2</td>\n",
       "    </tr>\n",
       "    <tr>\n",
       "      <th>3</th>\n",
       "      <td>-0.351239</td>\n",
       "      <td>1.213393</td>\n",
       "      <td>-1.656217</td>\n",
       "      <td>-2.191887</td>\n",
       "      <td>-2.312974</td>\n",
       "      <td>-0.394407</td>\n",
       "      <td>1.091784</td>\n",
       "      <td>-4.255220</td>\n",
       "      <td>0</td>\n",
       "    </tr>\n",
       "    <tr>\n",
       "      <th>4</th>\n",
       "      <td>-0.455716</td>\n",
       "      <td>2.586418</td>\n",
       "      <td>2.287171</td>\n",
       "      <td>0.170551</td>\n",
       "      <td>-1.330355</td>\n",
       "      <td>-2.919146</td>\n",
       "      <td>-0.684298</td>\n",
       "      <td>-2.951952</td>\n",
       "      <td>2</td>\n",
       "    </tr>\n",
       "  </tbody>\n",
       "</table>\n",
       "</div>"
      ],
      "text/plain": [
       "   start_hour   weekday  chrome_browser  firefox_browser  1st_page_search  \\\n",
       "0   -1.063950  0.182565       -2.941075        -0.329293        -1.260177   \n",
       "1   -1.484310  1.312075       -1.412113        -1.026644        -0.470754   \n",
       "2   -1.608478  3.048350        0.832231         1.657103         0.191061   \n",
       "3   -0.351239  1.213393       -1.656217        -2.191887        -2.312974   \n",
       "4   -0.455716  2.586418        2.287171         0.170551        -1.330355   \n",
       "\n",
       "   1st_page_faq  2nd_page_search  2nd_page_faq  TARGET_DOWNLOAD  \n",
       "0      0.440198         2.038754     -1.827899                0  \n",
       "1     -1.881764         0.989940     -2.645217                0  \n",
       "2     -3.174086        -1.068688     -0.817976                2  \n",
       "3     -0.394407         1.091784     -4.255220                0  \n",
       "4     -2.919146        -0.684298     -2.951952                2  "
      ]
     },
     "execution_count": 7,
     "metadata": {},
     "output_type": "execute_result"
    }
   ],
   "source": [
    "# initialize an empty data frame\n",
    "web_sesh_df = pd.DataFrame(\n",
    "    # declare the column headers with empty columns for now\n",
    "    data = {\n",
    "        # hour of day (0-24) as float\n",
    "        'start_hour':[],\n",
    "        # weekday (0-7) treat as int\n",
    "        'weekday':[],\n",
    "        # boolean indicator of whether or not the session is on a chrome browser\n",
    "        'chrome_browser':[],\n",
    "        # boolean indicator of whether or not the session is on a firefox browser\n",
    "        'firefox_browser':[],\n",
    "        # boolean indicator of whether or not the 1st page visited was\n",
    "        '1st_page_search':[],\n",
    "        # boolean indicator of whether or not the 1st page visited was\n",
    "        '1st_page_faq':[],\n",
    "        # boolean indicator of whether or not the 1st page visited was\n",
    "        '2nd_page_search':[],\n",
    "        # boolean indicator of whether or not the 1st page visited was\n",
    "        '2nd_page_faq':[],\n",
    "        # categorical columnn of which file they downnloaded 0,1, or 2\n",
    "        'TARGET_DOWNLOAD':[]\n",
    "        \n",
    "    }\n",
    ")\n",
    "\n",
    "# Generate some data to put into the data frame\n",
    "X,y = make_classification(\n",
    "    # declare the number of rows to use\n",
    "    n_samples = 1000,\n",
    "    # set the number of features to the width of the data minus the target column\n",
    "    n_features = web_sesh_df.shape[1] - 1,\n",
    "    # let's assume all the columns are informative except for the two browser features\n",
    "    n_informative = 6,\n",
    "    # declare number of target classes to predict (keep it simple at 3)\n",
    "    n_classes = 3,\n",
    "    # declare the number of clusters per class\n",
    "    n_clusters_per_class = 1,\n",
    "    # declare how easty to make the classification task (larger is easier default is 1.0)\n",
    "    class_sep = 1.5,\n",
    "    # set random seed for reproducibility\n",
    "    random_state = 1\n",
    ")\n",
    "\n",
    "# unpack each column in X into columns of a data frame\n",
    "for i in range(X.shape[1]):\n",
    "    # get the corresponding column in the data frame\n",
    "    col = web_sesh_df.columns[i]\n",
    "    # assign the column in X to the column in the df\n",
    "    web_sesh_df[col] = X[:,i]\n",
    "\n",
    "# assign the target column\n",
    "web_sesh_df['TARGET_DOWNLOAD'] = y\n",
    "    \n",
    "# take a look at the data now\n",
    "web_sesh_df.head()"
   ]
  },
  {
   "cell_type": "markdown",
   "metadata": {},
   "source": [
    "notice that `make_classification` just gave me some numerical features, but I want to \n",
    "### \"massage\" those numbers into something that will be easy to understand and makes sense for the columnn headers\n",
    "For example, I'll start by \"rescaling\" the values in `start_hour` into a 24 hour scale"
   ]
  },
  {
   "cell_type": "code",
   "execution_count": 8,
   "metadata": {
    "scrolled": true
   },
   "outputs": [
    {
     "data": {
      "image/png": "[encoded data removed]",
      "text/plain": [
       "<Figure size 432x288 with 1 Axes>"
      ]
     },
     "metadata": {
      "needs_background": "light"
     },
     "output_type": "display_data"
    }
   ],
   "source": [
    "# take a look at its current distribution\n",
    "web_sesh_df['start_hour'].hist()\n",
    "plt.title('start_hour\\nDistribution of \"Raw\" Values')\n",
    "plt.show()"
   ]
  },
  {
   "cell_type": "code",
   "execution_count": 9,
   "metadata": {},
   "outputs": [
    {
     "data": {
      "image/png": "[encoded data removed]",
      "text/plain": [
       "<Figure size 432x288 with 1 Axes>"
      ]
     },
     "metadata": {
      "needs_background": "light"
     },
     "output_type": "display_data"
    }
   ],
   "source": [
    "# use numpy to interpolate those values into a declared range\n",
    "web_sesh_df['start_hour'] = np.interp(\n",
    "        # the array of values to interpolate\n",
    "        x = web_sesh_df['start_hour'],\n",
    "        # the min and max of the existing range\n",
    "        xp = (web_sesh_df['start_hour'].min(), web_sesh_df['start_hour'].max()),\n",
    "        # the min and max of the new range\n",
    "        fp = (0,24),\n",
    "    )\n",
    "\n",
    "# display the output as a spot check\n",
    "web_sesh_df['start_hour'].hist()\n",
    "plt.title('start_hour\\nDistribution of Interpolated Values')\n",
    "plt.show()\n",
    "\n",
    "# round it a bit for ease of interpretation\n",
    "web_sesh_df['start_hour'] = np.round(web_sesh_df['start_hour'], 1)"
   ]
  },
  {
   "cell_type": "markdown",
   "metadata": {},
   "source": [
    "**interpolate weekday to values from 1-7** I'll skip the plotting this time"
   ]
  },
  {
   "cell_type": "code",
   "execution_count": 10,
   "metadata": {},
   "outputs": [],
   "source": [
    "# interpolate the values as floats\n",
    "web_sesh_df['weekday'] = np.interp(\n",
    "        # the array of values to interpolate\n",
    "        x = web_sesh_df.weekday,\n",
    "        # the min and max of the existing range\n",
    "        xp = (web_sesh_df.weekday.min(), web_sesh_df.weekday.max()),\n",
    "        # the min and max of the new range\n",
    "        fp = (1,7),\n",
    "    )\n",
    "# convert the values to ints\n",
    "web_sesh_df['weekday'] = web_sesh_df['weekday'].astype(int)"
   ]
  },
  {
   "cell_type": "markdown",
   "metadata": {},
   "source": [
    "**interpolate the remaining features as booleans**\n",
    "- I think it will be fine since I'm just taking a continuous feature and basically drawing a line in the middle and makign it binary"
   ]
  },
  {
   "cell_type": "code",
   "execution_count": 11,
   "metadata": {},
   "outputs": [
    {
     "data": {
      "text/html": [
       "<div>\n",
       "<style scoped>\n",
       "    .dataframe tbody tr th:only-of-type {\n",
       "        vertical-align: middle;\n",
       "    }\n",
       "\n",
       "    .dataframe tbody tr th {\n",
       "        vertical-align: top;\n",
       "    }\n",
       "\n",
       "    .dataframe thead th {\n",
       "        text-align: right;\n",
       "    }\n",
       "</style>\n",
       "<table border=\"1\" class=\"dataframe\">\n",
       "  <thead>\n",
       "    <tr style=\"text-align: right;\">\n",
       "      <th></th>\n",
       "      <th>start_hour</th>\n",
       "      <th>weekday</th>\n",
       "      <th>chrome_browser</th>\n",
       "      <th>firefox_browser</th>\n",
       "      <th>1st_page_search</th>\n",
       "      <th>1st_page_faq</th>\n",
       "      <th>2nd_page_search</th>\n",
       "      <th>2nd_page_faq</th>\n",
       "      <th>TARGET_DOWNLOAD</th>\n",
       "    </tr>\n",
       "  </thead>\n",
       "  <tbody>\n",
       "    <tr>\n",
       "      <th>0</th>\n",
       "      <td>7.9</td>\n",
       "      <td>3</td>\n",
       "      <td>False</td>\n",
       "      <td>False</td>\n",
       "      <td>False</td>\n",
       "      <td>True</td>\n",
       "      <td>True</td>\n",
       "      <td>False</td>\n",
       "      <td>0</td>\n",
       "    </tr>\n",
       "    <tr>\n",
       "      <th>1</th>\n",
       "      <td>6.9</td>\n",
       "      <td>4</td>\n",
       "      <td>False</td>\n",
       "      <td>False</td>\n",
       "      <td>True</td>\n",
       "      <td>False</td>\n",
       "      <td>True</td>\n",
       "      <td>False</td>\n",
       "      <td>0</td>\n",
       "    </tr>\n",
       "    <tr>\n",
       "      <th>2</th>\n",
       "      <td>6.7</td>\n",
       "      <td>5</td>\n",
       "      <td>True</td>\n",
       "      <td>True</td>\n",
       "      <td>True</td>\n",
       "      <td>False</td>\n",
       "      <td>False</td>\n",
       "      <td>False</td>\n",
       "      <td>2</td>\n",
       "    </tr>\n",
       "    <tr>\n",
       "      <th>3</th>\n",
       "      <td>9.4</td>\n",
       "      <td>4</td>\n",
       "      <td>False</td>\n",
       "      <td>False</td>\n",
       "      <td>False</td>\n",
       "      <td>True</td>\n",
       "      <td>True</td>\n",
       "      <td>False</td>\n",
       "      <td>0</td>\n",
       "    </tr>\n",
       "    <tr>\n",
       "      <th>4</th>\n",
       "      <td>9.2</td>\n",
       "      <td>5</td>\n",
       "      <td>True</td>\n",
       "      <td>False</td>\n",
       "      <td>False</td>\n",
       "      <td>False</td>\n",
       "      <td>False</td>\n",
       "      <td>False</td>\n",
       "      <td>2</td>\n",
       "    </tr>\n",
       "    <tr>\n",
       "      <th>5</th>\n",
       "      <td>8.2</td>\n",
       "      <td>4</td>\n",
       "      <td>False</td>\n",
       "      <td>False</td>\n",
       "      <td>False</td>\n",
       "      <td>True</td>\n",
       "      <td>True</td>\n",
       "      <td>False</td>\n",
       "      <td>0</td>\n",
       "    </tr>\n",
       "    <tr>\n",
       "      <th>6</th>\n",
       "      <td>14.9</td>\n",
       "      <td>2</td>\n",
       "      <td>True</td>\n",
       "      <td>True</td>\n",
       "      <td>True</td>\n",
       "      <td>True</td>\n",
       "      <td>False</td>\n",
       "      <td>True</td>\n",
       "      <td>1</td>\n",
       "    </tr>\n",
       "    <tr>\n",
       "      <th>7</th>\n",
       "      <td>14.8</td>\n",
       "      <td>2</td>\n",
       "      <td>True</td>\n",
       "      <td>True</td>\n",
       "      <td>True</td>\n",
       "      <td>True</td>\n",
       "      <td>False</td>\n",
       "      <td>True</td>\n",
       "      <td>1</td>\n",
       "    </tr>\n",
       "    <tr>\n",
       "      <th>8</th>\n",
       "      <td>6.9</td>\n",
       "      <td>4</td>\n",
       "      <td>False</td>\n",
       "      <td>True</td>\n",
       "      <td>False</td>\n",
       "      <td>True</td>\n",
       "      <td>False</td>\n",
       "      <td>True</td>\n",
       "      <td>2</td>\n",
       "    </tr>\n",
       "    <tr>\n",
       "      <th>9</th>\n",
       "      <td>7.0</td>\n",
       "      <td>3</td>\n",
       "      <td>True</td>\n",
       "      <td>True</td>\n",
       "      <td>True</td>\n",
       "      <td>False</td>\n",
       "      <td>False</td>\n",
       "      <td>True</td>\n",
       "      <td>1</td>\n",
       "    </tr>\n",
       "  </tbody>\n",
       "</table>\n",
       "</div>"
      ],
      "text/plain": [
       "   start_hour  weekday  chrome_browser  firefox_browser  1st_page_search  \\\n",
       "0         7.9        3           False            False            False   \n",
       "1         6.9        4           False            False             True   \n",
       "2         6.7        5            True             True             True   \n",
       "3         9.4        4           False            False            False   \n",
       "4         9.2        5            True            False            False   \n",
       "5         8.2        4           False            False            False   \n",
       "6        14.9        2            True             True             True   \n",
       "7        14.8        2            True             True             True   \n",
       "8         6.9        4           False             True            False   \n",
       "9         7.0        3            True             True             True   \n",
       "\n",
       "   1st_page_faq  2nd_page_search  2nd_page_faq  TARGET_DOWNLOAD  \n",
       "0          True             True         False                0  \n",
       "1         False             True         False                0  \n",
       "2         False            False         False                2  \n",
       "3          True             True         False                0  \n",
       "4         False            False         False                2  \n",
       "5          True             True         False                0  \n",
       "6          True            False          True                1  \n",
       "7          True            False          True                1  \n",
       "8          True            False          True                2  \n",
       "9         False            False          True                1  "
      ]
     },
     "execution_count": 11,
     "metadata": {},
     "output_type": "execute_result"
    }
   ],
   "source": [
    "# iterate throug the columns I want to interpolate to booleans\n",
    "for col in [\n",
    "    'chrome_browser', 'firefox_browser', \n",
    "    '1st_page_search', '1st_page_faq', \n",
    "    '2nd_page_search', '2nd_page_faq'\n",
    "]:\n",
    "    # transform them to the boolean series\n",
    "    web_sesh_df[col] = web_sesh_df[col] >= web_sesh_df[col].median()\n",
    "# and display 10 rows\n",
    "web_sesh_df.head(10)"
   ]
  },
  {
   "cell_type": "markdown",
   "metadata": {},
   "source": [
    "# And we're done. Next up: model the data"
   ]
  },
  {
   "cell_type": "code",
   "execution_count": null,
   "metadata": {},
   "outputs": [],
   "source": []
  }
 ],
 "metadata": {
  "kernelspec": {
   "display_name": "Python 3",
   "language": "python",
   "name": "python3"
  },
  "language_info": {
   "codemirror_mode": {
    "name": "ipython",
    "version": 3
   },
   "file_extension": ".py",
   "mimetype": "text/x-python",
   "name": "python",
   "nbconvert_exporter": "python",
   "pygments_lexer": "ipython3",
   "version": "3.7.7"
  }
 },
 "nbformat": 4,
 "nbformat_minor": 4
}

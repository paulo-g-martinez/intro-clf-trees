{
 "cells": [
  {
   "cell_type": "markdown",
   "metadata": {},
   "source": [
    "# 1. Get Toy Data\n",
    "- Let's generate a simple toy data set representing web-session data\n",
    "    - with 3 different classes\n",
    "    - with simple intuitive features\n",
    "        - Other than some super simple dummy-encoding of categoricals, we won't go into feature engineering"
   ]
  },
  {
   "cell_type": "markdown",
   "metadata": {},
   "source": [
    "imports"
   ]
  },
  {
   "cell_type": "code",
   "execution_count": 1,
   "metadata": {},
   "outputs": [],
   "source": [
    "# for plottign\n",
    "import matplotlib.pyplot as plt\n",
    "# for numerical transformations\n",
    "import numpy as np\n",
    "# for data frame (i.e. table) manipulations\n",
    "import pandas as pd\n",
    "# to easily generate a data set with a classification signal in it\n",
    "from sklearn.datasets import make_classification"
   ]
  },
  {
   "cell_type": "markdown",
   "metadata": {},
   "source": [
    "notebook variables"
   ]
  },
  {
   "cell_type": "code",
   "execution_count": 2,
   "metadata": {},
   "outputs": [],
   "source": [
    "# declare whether or not to print some feedback\n",
    "verbose = True"
   ]
  },
  {
   "cell_type": "markdown",
   "metadata": {},
   "source": [
    "I'd like to start with the following columns"
   ]
  },
  {
   "cell_type": "code",
   "execution_count": 3,
   "metadata": {},
   "outputs": [
    {
     "name": "stdout",
     "output_type": "stream",
     "text": [
      "Initialized web-session data-frame with info:\n",
      "----------------------------------------------\n",
      "<class 'pandas.core.frame.DataFrame'>\n",
      "RangeIndex: 0 entries\n",
      "Data columns (total 10 columns):\n",
      " #   Column           Non-Null Count  Dtype  \n",
      "---  ------           --------------  -----  \n",
      " 0   start_time       0 non-null      float64\n",
      " 1   weekday          0 non-null      float64\n",
      " 2   chrome_browser   0 non-null      float64\n",
      " 3   firefox_browser  0 non-null      float64\n",
      " 4   mobile_device    0 non-null      float64\n",
      " 5   1st_page_search  0 non-null      float64\n",
      " 6   1st_page_faq     0 non-null      float64\n",
      " 7   2nd_page_search  0 non-null      float64\n",
      " 8   2nd_page_faq     0 non-null      float64\n",
      " 9   TARGET_PAGE      0 non-null      float64\n",
      "dtypes: float64(10)\n",
      "memory usage: 124.0 bytes\n",
      "None\n"
     ]
    }
   ],
   "source": [
    "# initialize a empty data frame\n",
    "web_sesh_df = pd.DataFrame(\n",
    "    # declare the column headers with empty columns for now\n",
    "    data = {\n",
    "        # hour of day (0-24) as float\n",
    "        'start_time':[],\n",
    "        # weekday (0-7) treat as int (although it should properly be understood as a categorical)\n",
    "        'weekday':[],\n",
    "        # boolean indicator of whether or not the session is on a chrome browser\n",
    "        'chrome_browser':[],\n",
    "        # boolean indicator of whether or not the session is on a firefox browser\n",
    "        'firefox_browser':[],\n",
    "        # boolean indicator of whether or not the session is on a mobile device\n",
    "        'mobile_device':[],\n",
    "        # boolean indicator of whether or not the 1st page visited was\n",
    "        '1st_page_search':[],\n",
    "        # boolean indicator of whether or not the 1st page visited was\n",
    "        '1st_page_faq':[],\n",
    "        # boolean indicator of whether or not the 1st page visited was\n",
    "        '2nd_page_search':[],\n",
    "        # boolean indicator of whether or not the 1st page visited was\n",
    "        '2nd_page_faq':[],\n",
    "        # the last page a session interacted with; and the prediction target\n",
    "        'TARGET_PAGE':[]\n",
    "        \n",
    "    }\n",
    ")\n",
    "\n",
    "# display the column headers\n",
    "if verbose:\n",
    "    feedback = 'Initialized web-session data-frame with info:\\n'\n",
    "    feedback += '-'*len(feedback)\n",
    "    print(feedback)\n",
    "    print(web_sesh_df.info())"
   ]
  },
  {
   "cell_type": "markdown",
   "metadata": {},
   "source": [
    "Note the data-frame is currently empty"
   ]
  },
  {
   "cell_type": "code",
   "execution_count": 4,
   "metadata": {},
   "outputs": [
    {
     "data": {
      "text/html": [
       "<div>\n",
       "<style scoped>\n",
       "    .dataframe tbody tr th:only-of-type {\n",
       "        vertical-align: middle;\n",
       "    }\n",
       "\n",
       "    .dataframe tbody tr th {\n",
       "        vertical-align: top;\n",
       "    }\n",
       "\n",
       "    .dataframe thead th {\n",
       "        text-align: right;\n",
       "    }\n",
       "</style>\n",
       "<table border=\"1\" class=\"dataframe\">\n",
       "  <thead>\n",
       "    <tr style=\"text-align: right;\">\n",
       "      <th></th>\n",
       "      <th>start_time</th>\n",
       "      <th>weekday</th>\n",
       "      <th>chrome_browser</th>\n",
       "      <th>firefox_browser</th>\n",
       "      <th>mobile_device</th>\n",
       "      <th>1st_page_search</th>\n",
       "      <th>1st_page_faq</th>\n",
       "      <th>2nd_page_search</th>\n",
       "      <th>2nd_page_faq</th>\n",
       "      <th>TARGET_PAGE</th>\n",
       "    </tr>\n",
       "  </thead>\n",
       "  <tbody>\n",
       "  </tbody>\n",
       "</table>\n",
       "</div>"
      ],
      "text/plain": [
       "Empty DataFrame\n",
       "Columns: [start_time, weekday, chrome_browser, firefox_browser, mobile_device, 1st_page_search, 1st_page_faq, 2nd_page_search, 2nd_page_faq, TARGET_PAGE]\n",
       "Index: []"
      ]
     },
     "execution_count": 4,
     "metadata": {},
     "output_type": "execute_result"
    }
   ],
   "source": [
    "web_sesh_df.head()"
   ]
  },
  {
   "cell_type": "markdown",
   "metadata": {},
   "source": [
    "## Ok, let's epxlore how `make_classification` works\n",
    "**Start with something simple**"
   ]
  },
  {
   "cell_type": "code",
   "execution_count": 5,
   "metadata": {},
   "outputs": [],
   "source": [
    "# keep it simple with a 2d plottable data set\n",
    "X,y = make_classification(\n",
    "    n_samples = 1000,\n",
    "    # only two features for 2d plotting\n",
    "    n_features = 2,\n",
    "    n_redundant = 0,\n",
    "    n_informative = 2,\n",
    "    random_state = 1,\n",
    "    n_clusters_per_class = 1,\n",
    ")"
   ]
  },
  {
   "cell_type": "code",
   "execution_count": 6,
   "metadata": {},
   "outputs": [
    {
     "data": {
      "text/plain": [
       "array([[ 1.53682958, -1.39869399],\n",
       "       [ 1.36917601, -0.63734411],\n",
       "       [ 0.50231787, -0.45910529],\n",
       "       [ 1.83319262, -1.29808229],\n",
       "       [ 1.04235568,  1.12152929]])"
      ]
     },
     "execution_count": 6,
     "metadata": {},
     "output_type": "execute_result"
    }
   ],
   "source": [
    "# take a look at the first 5 samples\n",
    "X[:5]"
   ]
  },
  {
   "cell_type": "code",
   "execution_count": 7,
   "metadata": {},
   "outputs": [
    {
     "data": {
      "text/plain": [
       "array([1.53682958, 1.36917601, 0.50231787, 1.83319262, 1.04235568])"
      ]
     },
     "execution_count": 7,
     "metadata": {},
     "output_type": "execute_result"
    }
   ],
   "source": [
    "# take a look at the first 5 samples\n",
    "X[:5, 0]"
   ]
  },
  {
   "cell_type": "code",
   "execution_count": 8,
   "metadata": {},
   "outputs": [
    {
     "data": {
      "text/plain": [
       "array([1, 1, 1, 1, 0])"
      ]
     },
     "execution_count": 8,
     "metadata": {},
     "output_type": "execute_result"
    }
   ],
   "source": [
    "y[:5]"
   ]
  },
  {
   "cell_type": "code",
   "execution_count": 9,
   "metadata": {},
   "outputs": [
    {
     "data": {
      "text/html": [
       "<div>\n",
       "<style scoped>\n",
       "    .dataframe tbody tr th:only-of-type {\n",
       "        vertical-align: middle;\n",
       "    }\n",
       "\n",
       "    .dataframe tbody tr th {\n",
       "        vertical-align: top;\n",
       "    }\n",
       "\n",
       "    .dataframe thead th {\n",
       "        text-align: right;\n",
       "    }\n",
       "</style>\n",
       "<table border=\"1\" class=\"dataframe\">\n",
       "  <thead>\n",
       "    <tr style=\"text-align: right;\">\n",
       "      <th></th>\n",
       "      <th>feature_1</th>\n",
       "      <th>feature_2</th>\n",
       "      <th>BINARY_TARGET</th>\n",
       "    </tr>\n",
       "  </thead>\n",
       "  <tbody>\n",
       "    <tr>\n",
       "      <th>0</th>\n",
       "      <td>1.536830</td>\n",
       "      <td>-1.398694</td>\n",
       "      <td>1</td>\n",
       "    </tr>\n",
       "    <tr>\n",
       "      <th>1</th>\n",
       "      <td>1.369176</td>\n",
       "      <td>-0.637344</td>\n",
       "      <td>1</td>\n",
       "    </tr>\n",
       "    <tr>\n",
       "      <th>2</th>\n",
       "      <td>0.502318</td>\n",
       "      <td>-0.459105</td>\n",
       "      <td>1</td>\n",
       "    </tr>\n",
       "    <tr>\n",
       "      <th>3</th>\n",
       "      <td>1.833193</td>\n",
       "      <td>-1.298082</td>\n",
       "      <td>1</td>\n",
       "    </tr>\n",
       "    <tr>\n",
       "      <th>4</th>\n",
       "      <td>1.042356</td>\n",
       "      <td>1.121529</td>\n",
       "      <td>0</td>\n",
       "    </tr>\n",
       "  </tbody>\n",
       "</table>\n",
       "</div>"
      ],
      "text/plain": [
       "   feature_1  feature_2  BINARY_TARGET\n",
       "0   1.536830  -1.398694              1\n",
       "1   1.369176  -0.637344              1\n",
       "2   0.502318  -0.459105              1\n",
       "3   1.833193  -1.298082              1\n",
       "4   1.042356   1.121529              0"
      ]
     },
     "execution_count": 9,
     "metadata": {},
     "output_type": "execute_result"
    }
   ],
   "source": [
    "# could put it into a df if I wanted to\n",
    "toy_df = pd.DataFrame(\n",
    "   data =  {\n",
    "       # get every row, but the first column of X\n",
    "       'feature_1': X[:,0],\n",
    "       # get every row but the second col\n",
    "       'feature_2': X[:,1],\n",
    "       'BINARY_TARGET':y\n",
    "   }\n",
    ")\n",
    "# display the toy data set\n",
    "toy_df.head()"
   ]
  },
  {
   "cell_type": "markdown",
   "metadata": {},
   "source": [
    "**plot what the generated classes look like in 2d space**"
   ]
  },
  {
   "cell_type": "code",
   "execution_count": 10,
   "metadata": {},
   "outputs": [
    {
     "data": {
      "text/plain": [
       "[]"
      ]
     },
     "execution_count": 10,
     "metadata": {},
     "output_type": "execute_result"
    },
    {
     "data": {
      "image/png": "[encoded data removed]",
      "text/plain": [
       "<Figure size 432x288 with 1 Axes>"
      ]
     },
     "metadata": {
      "needs_background": "light"
     },
     "output_type": "display_data"
    }
   ],
   "source": [
    "toy_df.plot.scatter(\n",
    "    x = 'feature_1',\n",
    "    y = 'feature_2',\n",
    "    # set the color\n",
    "    c = 'BINARY_TARGET',\n",
    "    edgecolors = 'k',\n",
    "    colorbar = False,\n",
    ")\n",
    "plt.title('Toy example of 2 classes with 2 informative features')\n",
    "plt.plot()"
   ]
  },
  {
   "cell_type": "markdown",
   "metadata": {},
   "source": [
    "### repeat the vis but with 2 clusters per class"
   ]
  },
  {
   "cell_type": "code",
   "execution_count": 11,
   "metadata": {},
   "outputs": [],
   "source": [
    "# keep it simple with a 2d plottable data set\n",
    "X,y = make_classification(\n",
    "    n_samples = 5000,\n",
    "    n_features = 2,\n",
    "    n_redundant = 0,\n",
    "    n_informative = 2,\n",
    "    random_state = 1,\n",
    "    n_clusters_per_class = 2,\n",
    ")"
   ]
  },
  {
   "cell_type": "code",
   "execution_count": 12,
   "metadata": {},
   "outputs": [
    {
     "data": {
      "text/html": [
       "<div>\n",
       "<style scoped>\n",
       "    .dataframe tbody tr th:only-of-type {\n",
       "        vertical-align: middle;\n",
       "    }\n",
       "\n",
       "    .dataframe tbody tr th {\n",
       "        vertical-align: top;\n",
       "    }\n",
       "\n",
       "    .dataframe thead th {\n",
       "        text-align: right;\n",
       "    }\n",
       "</style>\n",
       "<table border=\"1\" class=\"dataframe\">\n",
       "  <thead>\n",
       "    <tr style=\"text-align: right;\">\n",
       "      <th></th>\n",
       "      <th>feature_1</th>\n",
       "      <th>feature_2</th>\n",
       "      <th>BINARY_TARGET</th>\n",
       "    </tr>\n",
       "  </thead>\n",
       "  <tbody>\n",
       "    <tr>\n",
       "      <th>0</th>\n",
       "      <td>-0.875616</td>\n",
       "      <td>-0.977599</td>\n",
       "      <td>1</td>\n",
       "    </tr>\n",
       "    <tr>\n",
       "      <th>1</th>\n",
       "      <td>-0.541799</td>\n",
       "      <td>1.038633</td>\n",
       "      <td>0</td>\n",
       "    </tr>\n",
       "    <tr>\n",
       "      <th>2</th>\n",
       "      <td>-0.713956</td>\n",
       "      <td>-1.173781</td>\n",
       "      <td>0</td>\n",
       "    </tr>\n",
       "    <tr>\n",
       "      <th>3</th>\n",
       "      <td>0.463707</td>\n",
       "      <td>-1.121944</td>\n",
       "      <td>1</td>\n",
       "    </tr>\n",
       "    <tr>\n",
       "      <th>4</th>\n",
       "      <td>-1.581774</td>\n",
       "      <td>2.230862</td>\n",
       "      <td>0</td>\n",
       "    </tr>\n",
       "  </tbody>\n",
       "</table>\n",
       "</div>"
      ],
      "text/plain": [
       "   feature_1  feature_2  BINARY_TARGET\n",
       "0  -0.875616  -0.977599              1\n",
       "1  -0.541799   1.038633              0\n",
       "2  -0.713956  -1.173781              0\n",
       "3   0.463707  -1.121944              1\n",
       "4  -1.581774   2.230862              0"
      ]
     },
     "execution_count": 12,
     "metadata": {},
     "output_type": "execute_result"
    }
   ],
   "source": [
    "# could put it into a df if I wanted to\n",
    "toy_df = pd.DataFrame(\n",
    "   data =  {\n",
    "       # get every row, but the first column of X\n",
    "       'feature_1': X[:,0],\n",
    "       # get every row but the second col\n",
    "       'feature_2': X[:,1],\n",
    "       'BINARY_TARGET':y\n",
    "   }\n",
    ")\n",
    "# display the toy data set\n",
    "toy_df.head()"
   ]
  },
  {
   "cell_type": "code",
   "execution_count": 13,
   "metadata": {},
   "outputs": [
    {
     "data": {
      "text/plain": [
       "[]"
      ]
     },
     "execution_count": 13,
     "metadata": {},
     "output_type": "execute_result"
    },
    {
     "data": {
      "image/png": "[encoded data removed]",
      "text/plain": [
       "<Figure size 432x288 with 1 Axes>"
      ]
     },
     "metadata": {
      "needs_background": "light"
     },
     "output_type": "display_data"
    }
   ],
   "source": [
    "toy_df.plot.scatter(\n",
    "    x = 'feature_1',\n",
    "    y = 'feature_2',\n",
    "    # set the color\n",
    "    c = 'BINARY_TARGET',\n",
    "    edgecolors = 'k',\n",
    "    colorbar = False,\n",
    "    alpha = .5\n",
    ")\n",
    "plt.title('Toy example with 2 informative features and 2 clusters per class')\n",
    "plt.plot()"
   ]
  },
  {
   "cell_type": "markdown",
   "metadata": {},
   "source": [
    "Ok. Now that we're comfortable with how `make_classification` works, \n",
    "## let's generate the toy data to fit my empty data frame"
   ]
  },
  {
   "cell_type": "markdown",
   "metadata": {},
   "source": [
    "Generate some toy data to put into the data frame"
   ]
  },
  {
   "cell_type": "code",
   "execution_count": 14,
   "metadata": {},
   "outputs": [
    {
     "data": {
      "text/html": [
       "<div>\n",
       "<style scoped>\n",
       "    .dataframe tbody tr th:only-of-type {\n",
       "        vertical-align: middle;\n",
       "    }\n",
       "\n",
       "    .dataframe tbody tr th {\n",
       "        vertical-align: top;\n",
       "    }\n",
       "\n",
       "    .dataframe thead th {\n",
       "        text-align: right;\n",
       "    }\n",
       "</style>\n",
       "<table border=\"1\" class=\"dataframe\">\n",
       "  <thead>\n",
       "    <tr style=\"text-align: right;\">\n",
       "      <th></th>\n",
       "      <th>start_time</th>\n",
       "      <th>weekday</th>\n",
       "      <th>chrome_browser</th>\n",
       "      <th>firefox_browser</th>\n",
       "      <th>mobile_device</th>\n",
       "      <th>1st_page_search</th>\n",
       "      <th>1st_page_faq</th>\n",
       "      <th>2nd_page_search</th>\n",
       "      <th>2nd_page_faq</th>\n",
       "      <th>TARGET_PAGE</th>\n",
       "    </tr>\n",
       "  </thead>\n",
       "  <tbody>\n",
       "    <tr>\n",
       "      <th>0</th>\n",
       "      <td>0.815486</td>\n",
       "      <td>-0.116862</td>\n",
       "      <td>-0.409612</td>\n",
       "      <td>-0.196160</td>\n",
       "      <td>0.748555</td>\n",
       "      <td>0.542850</td>\n",
       "      <td>3.113630</td>\n",
       "      <td>-0.730980</td>\n",
       "      <td>-2.611782</td>\n",
       "      <td>1</td>\n",
       "    </tr>\n",
       "    <tr>\n",
       "      <th>1</th>\n",
       "      <td>1.418899</td>\n",
       "      <td>0.088696</td>\n",
       "      <td>1.567158</td>\n",
       "      <td>3.052181</td>\n",
       "      <td>-0.361921</td>\n",
       "      <td>3.691398</td>\n",
       "      <td>-1.917444</td>\n",
       "      <td>-2.952842</td>\n",
       "      <td>-6.047242</td>\n",
       "      <td>2</td>\n",
       "    </tr>\n",
       "    <tr>\n",
       "      <th>2</th>\n",
       "      <td>2.264121</td>\n",
       "      <td>0.140315</td>\n",
       "      <td>0.063504</td>\n",
       "      <td>3.580166</td>\n",
       "      <td>-1.390571</td>\n",
       "      <td>3.638627</td>\n",
       "      <td>-0.141968</td>\n",
       "      <td>-2.080164</td>\n",
       "      <td>-9.511870</td>\n",
       "      <td>2</td>\n",
       "    </tr>\n",
       "    <tr>\n",
       "      <th>3</th>\n",
       "      <td>2.618426</td>\n",
       "      <td>0.544952</td>\n",
       "      <td>-1.655893</td>\n",
       "      <td>-1.164895</td>\n",
       "      <td>2.751693</td>\n",
       "      <td>-1.049640</td>\n",
       "      <td>1.230035</td>\n",
       "      <td>2.014013</td>\n",
       "      <td>0.987807</td>\n",
       "      <td>0</td>\n",
       "    </tr>\n",
       "    <tr>\n",
       "      <th>4</th>\n",
       "      <td>-2.184041</td>\n",
       "      <td>-2.125415</td>\n",
       "      <td>2.155363</td>\n",
       "      <td>-1.898766</td>\n",
       "      <td>-0.024651</td>\n",
       "      <td>-3.127868</td>\n",
       "      <td>-0.288101</td>\n",
       "      <td>-1.005808</td>\n",
       "      <td>6.361873</td>\n",
       "      <td>1</td>\n",
       "    </tr>\n",
       "  </tbody>\n",
       "</table>\n",
       "</div>"
      ],
      "text/plain": [
       "   start_time   weekday  chrome_browser  firefox_browser  mobile_device  \\\n",
       "0    0.815486 -0.116862       -0.409612        -0.196160       0.748555   \n",
       "1    1.418899  0.088696        1.567158         3.052181      -0.361921   \n",
       "2    2.264121  0.140315        0.063504         3.580166      -1.390571   \n",
       "3    2.618426  0.544952       -1.655893        -1.164895       2.751693   \n",
       "4   -2.184041 -2.125415        2.155363        -1.898766      -0.024651   \n",
       "\n",
       "   1st_page_search  1st_page_faq  2nd_page_search  2nd_page_faq  TARGET_PAGE  \n",
       "0         0.542850      3.113630        -0.730980     -2.611782            1  \n",
       "1         3.691398     -1.917444        -2.952842     -6.047242            2  \n",
       "2         3.638627     -0.141968        -2.080164     -9.511870            2  \n",
       "3        -1.049640      1.230035         2.014013      0.987807            0  \n",
       "4        -3.127868     -0.288101        -1.005808      6.361873            1  "
      ]
     },
     "execution_count": 14,
     "metadata": {},
     "output_type": "execute_result"
    }
   ],
   "source": [
    "# Generate some toy data to put into the data frame\n",
    "X,y = make_classification(\n",
    "    # generate 100,000 rows\n",
    "    n_samples = 100000,\n",
    "    # set the number of features to the width of the data minus the target column\n",
    "    n_features = web_sesh_df.shape[1] - 1,\n",
    "    # let's assume all the columns are informative except for the two browser features, so that's 7\n",
    "    n_informative = 7,\n",
    "    # declare number of target pages/classes to predict (keep it simple at 3)\n",
    "    n_classes = 3,\n",
    "    # declare the number of clusters per class\n",
    "    n_clusters_per_class = 1\n",
    ")\n",
    "\n",
    "# unpack each column in X into columns of a data frame\n",
    "for i in range(X.shape[1]):\n",
    "    # get the corresponding column in the data frame\n",
    "    col = web_sesh_df.columns[i]\n",
    "    # assign the column in X to the column in the df\n",
    "    web_sesh_df[col] = X[:,i]\n",
    "\n",
    "# assign the target column\n",
    "web_sesh_df['TARGET_PAGE'] = y\n",
    "    \n",
    "# take a look at the data now\n",
    "web_sesh_df.head()"
   ]
  },
  {
   "cell_type": "code",
   "execution_count": 15,
   "metadata": {},
   "outputs": [
    {
     "name": "stdout",
     "output_type": "stream",
     "text": [
      "<class 'pandas.core.frame.DataFrame'>\n",
      "RangeIndex: 100000 entries, 0 to 99999\n",
      "Data columns (total 10 columns):\n",
      " #   Column           Non-Null Count   Dtype  \n",
      "---  ------           --------------   -----  \n",
      " 0   start_time       100000 non-null  float64\n",
      " 1   weekday          100000 non-null  float64\n",
      " 2   chrome_browser   100000 non-null  float64\n",
      " 3   firefox_browser  100000 non-null  float64\n",
      " 4   mobile_device    100000 non-null  float64\n",
      " 5   1st_page_search  100000 non-null  float64\n",
      " 6   1st_page_faq     100000 non-null  float64\n",
      " 7   2nd_page_search  100000 non-null  float64\n",
      " 8   2nd_page_faq     100000 non-null  float64\n",
      " 9   TARGET_PAGE      100000 non-null  int64  \n",
      "dtypes: float64(9), int64(1)\n",
      "memory usage: 7.6 MB\n"
     ]
    }
   ],
   "source": [
    "# display the data frames info now\n",
    "web_sesh_df.info()"
   ]
  },
  {
   "cell_type": "markdown",
   "metadata": {},
   "source": [
    "Cool! Note that I won't be trying to make any plots because the data is now 9 dimensional."
   ]
  },
  {
   "cell_type": "markdown",
   "metadata": {},
   "source": [
    "## manipulate the values so they make intuitive sense according to their column headers"
   ]
  },
  {
   "cell_type": "code",
   "execution_count": 16,
   "metadata": {},
   "outputs": [
    {
     "data": {
      "text/html": [
       "<div>\n",
       "<style scoped>\n",
       "    .dataframe tbody tr th:only-of-type {\n",
       "        vertical-align: middle;\n",
       "    }\n",
       "\n",
       "    .dataframe tbody tr th {\n",
       "        vertical-align: top;\n",
       "    }\n",
       "\n",
       "    .dataframe thead th {\n",
       "        text-align: right;\n",
       "    }\n",
       "</style>\n",
       "<table border=\"1\" class=\"dataframe\">\n",
       "  <thead>\n",
       "    <tr style=\"text-align: right;\">\n",
       "      <th></th>\n",
       "      <th>start_time</th>\n",
       "      <th>weekday</th>\n",
       "      <th>chrome_browser</th>\n",
       "      <th>firefox_browser</th>\n",
       "      <th>mobile_device</th>\n",
       "      <th>1st_page_search</th>\n",
       "      <th>1st_page_faq</th>\n",
       "      <th>2nd_page_search</th>\n",
       "      <th>2nd_page_faq</th>\n",
       "      <th>TARGET_PAGE</th>\n",
       "    </tr>\n",
       "  </thead>\n",
       "  <tbody>\n",
       "    <tr>\n",
       "      <th>count</th>\n",
       "      <td>100000.000000</td>\n",
       "      <td>100000.000000</td>\n",
       "      <td>100000.000000</td>\n",
       "      <td>100000.000000</td>\n",
       "      <td>100000.000000</td>\n",
       "      <td>100000.000000</td>\n",
       "      <td>100000.000000</td>\n",
       "      <td>100000.000000</td>\n",
       "      <td>100000.000000</td>\n",
       "      <td>100000.000000</td>\n",
       "    </tr>\n",
       "    <tr>\n",
       "      <th>mean</th>\n",
       "      <td>0.324533</td>\n",
       "      <td>0.331937</td>\n",
       "      <td>-0.231314</td>\n",
       "      <td>-0.334463</td>\n",
       "      <td>0.327167</td>\n",
       "      <td>0.341944</td>\n",
       "      <td>0.998863</td>\n",
       "      <td>-0.342552</td>\n",
       "      <td>-0.626933</td>\n",
       "      <td>1.000240</td>\n",
       "    </tr>\n",
       "    <tr>\n",
       "      <th>std</th>\n",
       "      <td>1.934174</td>\n",
       "      <td>1.685058</td>\n",
       "      <td>2.005968</td>\n",
       "      <td>1.592556</td>\n",
       "      <td>1.751632</td>\n",
       "      <td>1.871425</td>\n",
       "      <td>1.533308</td>\n",
       "      <td>1.943448</td>\n",
       "      <td>4.527019</td>\n",
       "      <td>0.816435</td>\n",
       "    </tr>\n",
       "    <tr>\n",
       "      <th>min</th>\n",
       "      <td>-9.302906</td>\n",
       "      <td>-5.652355</td>\n",
       "      <td>-7.915069</td>\n",
       "      <td>-6.631815</td>\n",
       "      <td>-6.230912</td>\n",
       "      <td>-6.963513</td>\n",
       "      <td>-6.403834</td>\n",
       "      <td>-8.390580</td>\n",
       "      <td>-18.720021</td>\n",
       "      <td>0.000000</td>\n",
       "    </tr>\n",
       "    <tr>\n",
       "      <th>25%</th>\n",
       "      <td>-0.970251</td>\n",
       "      <td>-0.874892</td>\n",
       "      <td>-1.626084</td>\n",
       "      <td>-1.434431</td>\n",
       "      <td>-0.902159</td>\n",
       "      <td>-0.982749</td>\n",
       "      <td>-0.018803</td>\n",
       "      <td>-1.683169</td>\n",
       "      <td>-3.790371</td>\n",
       "      <td>0.000000</td>\n",
       "    </tr>\n",
       "    <tr>\n",
       "      <th>50%</th>\n",
       "      <td>0.374737</td>\n",
       "      <td>0.314674</td>\n",
       "      <td>-0.306333</td>\n",
       "      <td>-0.527828</td>\n",
       "      <td>0.317462</td>\n",
       "      <td>0.277909</td>\n",
       "      <td>1.000905</td>\n",
       "      <td>-0.430587</td>\n",
       "      <td>-0.793565</td>\n",
       "      <td>1.000000</td>\n",
       "    </tr>\n",
       "    <tr>\n",
       "      <th>75%</th>\n",
       "      <td>1.668526</td>\n",
       "      <td>1.513145</td>\n",
       "      <td>1.092135</td>\n",
       "      <td>0.608778</td>\n",
       "      <td>1.540401</td>\n",
       "      <td>1.604369</td>\n",
       "      <td>2.015708</td>\n",
       "      <td>0.906162</td>\n",
       "      <td>2.365583</td>\n",
       "      <td>2.000000</td>\n",
       "    </tr>\n",
       "    <tr>\n",
       "      <th>max</th>\n",
       "      <td>8.309055</td>\n",
       "      <td>7.365155</td>\n",
       "      <td>9.997827</td>\n",
       "      <td>7.400382</td>\n",
       "      <td>7.761780</td>\n",
       "      <td>8.588750</td>\n",
       "      <td>8.447147</td>\n",
       "      <td>8.387118</td>\n",
       "      <td>22.087750</td>\n",
       "      <td>2.000000</td>\n",
       "    </tr>\n",
       "  </tbody>\n",
       "</table>\n",
       "</div>"
      ],
      "text/plain": [
       "          start_time        weekday  chrome_browser  firefox_browser  \\\n",
       "count  100000.000000  100000.000000   100000.000000    100000.000000   \n",
       "mean        0.324533       0.331937       -0.231314        -0.334463   \n",
       "std         1.934174       1.685058        2.005968         1.592556   \n",
       "min        -9.302906      -5.652355       -7.915069        -6.631815   \n",
       "25%        -0.970251      -0.874892       -1.626084        -1.434431   \n",
       "50%         0.374737       0.314674       -0.306333        -0.527828   \n",
       "75%         1.668526       1.513145        1.092135         0.608778   \n",
       "max         8.309055       7.365155        9.997827         7.400382   \n",
       "\n",
       "       mobile_device  1st_page_search   1st_page_faq  2nd_page_search  \\\n",
       "count  100000.000000    100000.000000  100000.000000    100000.000000   \n",
       "mean        0.327167         0.341944       0.998863        -0.342552   \n",
       "std         1.751632         1.871425       1.533308         1.943448   \n",
       "min        -6.230912        -6.963513      -6.403834        -8.390580   \n",
       "25%        -0.902159        -0.982749      -0.018803        -1.683169   \n",
       "50%         0.317462         0.277909       1.000905        -0.430587   \n",
       "75%         1.540401         1.604369       2.015708         0.906162   \n",
       "max         7.761780         8.588750       8.447147         8.387118   \n",
       "\n",
       "        2nd_page_faq    TARGET_PAGE  \n",
       "count  100000.000000  100000.000000  \n",
       "mean       -0.626933       1.000240  \n",
       "std         4.527019       0.816435  \n",
       "min       -18.720021       0.000000  \n",
       "25%        -3.790371       0.000000  \n",
       "50%        -0.793565       1.000000  \n",
       "75%         2.365583       2.000000  \n",
       "max        22.087750       2.000000  "
      ]
     },
     "execution_count": 16,
     "metadata": {},
     "output_type": "execute_result"
    }
   ],
   "source": [
    "# take a look at the summary\n",
    "web_sesh_df.describe()"
   ]
  },
  {
   "cell_type": "markdown",
   "metadata": {},
   "source": [
    "**interpolate start_time on a 0-24 range, to represent hours in a day**"
   ]
  },
  {
   "cell_type": "code",
   "execution_count": 17,
   "metadata": {
    "scrolled": true
   },
   "outputs": [
    {
     "data": {
      "image/png": "[encoded data removed]",
      "text/plain": [
       "<Figure size 432x288 with 1 Axes>"
      ]
     },
     "metadata": {
      "needs_background": "light"
     },
     "output_type": "display_data"
    }
   ],
   "source": [
    "# take a look at its current distribution\n",
    "web_sesh_df.start_time.hist()\n",
    "plt.title('uninterpolated values')\n",
    "plt.show()"
   ]
  },
  {
   "cell_type": "code",
   "execution_count": 18,
   "metadata": {},
   "outputs": [
    {
     "data": {
      "image/png": "[encoded data removed]",
      "text/plain": [
       "<Figure size 432x288 with 1 Axes>"
      ]
     },
     "metadata": {
      "needs_background": "light"
     },
     "output_type": "display_data"
    }
   ],
   "source": [
    "web_sesh_df['start_time'] = np.interp(\n",
    "        # the array of values to interpolate\n",
    "        x = web_sesh_df.start_time,\n",
    "        # the min and max of the existing range\n",
    "        xp = (web_sesh_df.start_time.min(), web_sesh_df.start_time.max()),\n",
    "        # the min and max of the new range\n",
    "        fp = (0,24),\n",
    "    )\n",
    "# display the output as a spot check\n",
    "web_sesh_df['start_time'].hist()\n",
    "plt.title('interpolated values')\n",
    "plt.show()"
   ]
  },
  {
   "cell_type": "markdown",
   "metadata": {},
   "source": [
    "**interpolate weekday to values from 1-7** I'll skip the plotting this time"
   ]
  },
  {
   "cell_type": "code",
   "execution_count": 19,
   "metadata": {},
   "outputs": [],
   "source": [
    "# interpolate the values as floats\n",
    "web_sesh_df['weekday'] = np.interp(\n",
    "        # the array of values to interpolate\n",
    "        x = web_sesh_df.weekday,\n",
    "        # the min and max of the existing range\n",
    "        xp = (web_sesh_df.weekday.min(), web_sesh_df.weekday.max()),\n",
    "        # the min and max of the new range\n",
    "        fp = (1,7),\n",
    "    )\n",
    "# convert the values to ints\n",
    "web_sesh_df['weekday'] = web_sesh_df['weekday'].astype(int)"
   ]
  },
  {
   "cell_type": "markdown",
   "metadata": {},
   "source": [
    "**ok, what's next?**"
   ]
  },
  {
   "cell_type": "code",
   "execution_count": 20,
   "metadata": {},
   "outputs": [
    {
     "data": {
      "text/html": [
       "<div>\n",
       "<style scoped>\n",
       "    .dataframe tbody tr th:only-of-type {\n",
       "        vertical-align: middle;\n",
       "    }\n",
       "\n",
       "    .dataframe tbody tr th {\n",
       "        vertical-align: top;\n",
       "    }\n",
       "\n",
       "    .dataframe thead th {\n",
       "        text-align: right;\n",
       "    }\n",
       "</style>\n",
       "<table border=\"1\" class=\"dataframe\">\n",
       "  <thead>\n",
       "    <tr style=\"text-align: right;\">\n",
       "      <th></th>\n",
       "      <th>start_time</th>\n",
       "      <th>weekday</th>\n",
       "      <th>chrome_browser</th>\n",
       "      <th>firefox_browser</th>\n",
       "      <th>mobile_device</th>\n",
       "      <th>1st_page_search</th>\n",
       "      <th>1st_page_faq</th>\n",
       "      <th>2nd_page_search</th>\n",
       "      <th>2nd_page_faq</th>\n",
       "      <th>TARGET_PAGE</th>\n",
       "    </tr>\n",
       "  </thead>\n",
       "  <tbody>\n",
       "    <tr>\n",
       "      <th>count</th>\n",
       "      <td>100000.000000</td>\n",
       "      <td>100000.0000</td>\n",
       "      <td>100000.000000</td>\n",
       "      <td>100000.000000</td>\n",
       "      <td>100000.000000</td>\n",
       "      <td>100000.000000</td>\n",
       "      <td>100000.000000</td>\n",
       "      <td>100000.000000</td>\n",
       "      <td>100000.000000</td>\n",
       "      <td>100000.000000</td>\n",
       "    </tr>\n",
       "    <tr>\n",
       "      <th>mean</th>\n",
       "      <td>13.119409</td>\n",
       "      <td>3.2582</td>\n",
       "      <td>-0.231314</td>\n",
       "      <td>-0.334463</td>\n",
       "      <td>0.327167</td>\n",
       "      <td>0.341944</td>\n",
       "      <td>0.998863</td>\n",
       "      <td>-0.342552</td>\n",
       "      <td>-0.626933</td>\n",
       "      <td>1.000240</td>\n",
       "    </tr>\n",
       "    <tr>\n",
       "      <th>std</th>\n",
       "      <td>2.635719</td>\n",
       "      <td>0.8300</td>\n",
       "      <td>2.005968</td>\n",
       "      <td>1.592556</td>\n",
       "      <td>1.751632</td>\n",
       "      <td>1.871425</td>\n",
       "      <td>1.533308</td>\n",
       "      <td>1.943448</td>\n",
       "      <td>4.527019</td>\n",
       "      <td>0.816435</td>\n",
       "    </tr>\n",
       "    <tr>\n",
       "      <th>min</th>\n",
       "      <td>0.000000</td>\n",
       "      <td>1.0000</td>\n",
       "      <td>-7.915069</td>\n",
       "      <td>-6.631815</td>\n",
       "      <td>-6.230912</td>\n",
       "      <td>-6.963513</td>\n",
       "      <td>-6.403834</td>\n",
       "      <td>-8.390580</td>\n",
       "      <td>-18.720021</td>\n",
       "      <td>0.000000</td>\n",
       "    </tr>\n",
       "    <tr>\n",
       "      <th>25%</th>\n",
       "      <td>11.354994</td>\n",
       "      <td>3.0000</td>\n",
       "      <td>-1.626084</td>\n",
       "      <td>-1.434431</td>\n",
       "      <td>-0.902159</td>\n",
       "      <td>-0.982749</td>\n",
       "      <td>-0.018803</td>\n",
       "      <td>-1.683169</td>\n",
       "      <td>-3.790371</td>\n",
       "      <td>0.000000</td>\n",
       "    </tr>\n",
       "    <tr>\n",
       "      <th>50%</th>\n",
       "      <td>13.187823</td>\n",
       "      <td>3.0000</td>\n",
       "      <td>-0.306333</td>\n",
       "      <td>-0.527828</td>\n",
       "      <td>0.317462</td>\n",
       "      <td>0.277909</td>\n",
       "      <td>1.000905</td>\n",
       "      <td>-0.430587</td>\n",
       "      <td>-0.793565</td>\n",
       "      <td>1.000000</td>\n",
       "    </tr>\n",
       "    <tr>\n",
       "      <th>75%</th>\n",
       "      <td>14.950884</td>\n",
       "      <td>4.0000</td>\n",
       "      <td>1.092135</td>\n",
       "      <td>0.608778</td>\n",
       "      <td>1.540401</td>\n",
       "      <td>1.604369</td>\n",
       "      <td>2.015708</td>\n",
       "      <td>0.906162</td>\n",
       "      <td>2.365583</td>\n",
       "      <td>2.000000</td>\n",
       "    </tr>\n",
       "    <tr>\n",
       "      <th>max</th>\n",
       "      <td>24.000000</td>\n",
       "      <td>7.0000</td>\n",
       "      <td>9.997827</td>\n",
       "      <td>7.400382</td>\n",
       "      <td>7.761780</td>\n",
       "      <td>8.588750</td>\n",
       "      <td>8.447147</td>\n",
       "      <td>8.387118</td>\n",
       "      <td>22.087750</td>\n",
       "      <td>2.000000</td>\n",
       "    </tr>\n",
       "  </tbody>\n",
       "</table>\n",
       "</div>"
      ],
      "text/plain": [
       "          start_time      weekday  chrome_browser  firefox_browser  \\\n",
       "count  100000.000000  100000.0000   100000.000000    100000.000000   \n",
       "mean       13.119409       3.2582       -0.231314        -0.334463   \n",
       "std         2.635719       0.8300        2.005968         1.592556   \n",
       "min         0.000000       1.0000       -7.915069        -6.631815   \n",
       "25%        11.354994       3.0000       -1.626084        -1.434431   \n",
       "50%        13.187823       3.0000       -0.306333        -0.527828   \n",
       "75%        14.950884       4.0000        1.092135         0.608778   \n",
       "max        24.000000       7.0000        9.997827         7.400382   \n",
       "\n",
       "       mobile_device  1st_page_search   1st_page_faq  2nd_page_search  \\\n",
       "count  100000.000000    100000.000000  100000.000000    100000.000000   \n",
       "mean        0.327167         0.341944       0.998863        -0.342552   \n",
       "std         1.751632         1.871425       1.533308         1.943448   \n",
       "min        -6.230912        -6.963513      -6.403834        -8.390580   \n",
       "25%        -0.902159        -0.982749      -0.018803        -1.683169   \n",
       "50%         0.317462         0.277909       1.000905        -0.430587   \n",
       "75%         1.540401         1.604369       2.015708         0.906162   \n",
       "max         7.761780         8.588750       8.447147         8.387118   \n",
       "\n",
       "        2nd_page_faq    TARGET_PAGE  \n",
       "count  100000.000000  100000.000000  \n",
       "mean       -0.626933       1.000240  \n",
       "std         4.527019       0.816435  \n",
       "min       -18.720021       0.000000  \n",
       "25%        -3.790371       0.000000  \n",
       "50%        -0.793565       1.000000  \n",
       "75%         2.365583       2.000000  \n",
       "max        22.087750       2.000000  "
      ]
     },
     "execution_count": 20,
     "metadata": {},
     "output_type": "execute_result"
    }
   ],
   "source": [
    "web_sesh_df.describe()"
   ]
  },
  {
   "cell_type": "markdown",
   "metadata": {},
   "source": [
    "### interpolate the remaining features as booleans\n",
    "hopefully this won't alter the clustering too much\n",
    "- I think it will be fine since I'm just taking a continuous feature and basically drawing a line in the middle and makign it binary"
   ]
  },
  {
   "cell_type": "code",
   "execution_count": 21,
   "metadata": {},
   "outputs": [
    {
     "data": {
      "text/html": [
       "<div>\n",
       "<style scoped>\n",
       "    .dataframe tbody tr th:only-of-type {\n",
       "        vertical-align: middle;\n",
       "    }\n",
       "\n",
       "    .dataframe tbody tr th {\n",
       "        vertical-align: top;\n",
       "    }\n",
       "\n",
       "    .dataframe thead th {\n",
       "        text-align: right;\n",
       "    }\n",
       "</style>\n",
       "<table border=\"1\" class=\"dataframe\">\n",
       "  <thead>\n",
       "    <tr style=\"text-align: right;\">\n",
       "      <th></th>\n",
       "      <th>start_time</th>\n",
       "      <th>weekday</th>\n",
       "      <th>chrome_browser</th>\n",
       "      <th>firefox_browser</th>\n",
       "      <th>mobile_device</th>\n",
       "      <th>1st_page_search</th>\n",
       "      <th>1st_page_faq</th>\n",
       "      <th>2nd_page_search</th>\n",
       "      <th>2nd_page_faq</th>\n",
       "      <th>TARGET_PAGE</th>\n",
       "    </tr>\n",
       "  </thead>\n",
       "  <tbody>\n",
       "    <tr>\n",
       "      <th>0</th>\n",
       "      <td>13.788437</td>\n",
       "      <td>3</td>\n",
       "      <td>False</td>\n",
       "      <td>True</td>\n",
       "      <td>True</td>\n",
       "      <td>True</td>\n",
       "      <td>True</td>\n",
       "      <td>False</td>\n",
       "      <td>False</td>\n",
       "      <td>1</td>\n",
       "    </tr>\n",
       "    <tr>\n",
       "      <th>1</th>\n",
       "      <td>14.610714</td>\n",
       "      <td>3</td>\n",
       "      <td>True</td>\n",
       "      <td>True</td>\n",
       "      <td>False</td>\n",
       "      <td>True</td>\n",
       "      <td>False</td>\n",
       "      <td>False</td>\n",
       "      <td>False</td>\n",
       "      <td>2</td>\n",
       "    </tr>\n",
       "    <tr>\n",
       "      <th>2</th>\n",
       "      <td>15.762506</td>\n",
       "      <td>3</td>\n",
       "      <td>True</td>\n",
       "      <td>True</td>\n",
       "      <td>False</td>\n",
       "      <td>True</td>\n",
       "      <td>False</td>\n",
       "      <td>False</td>\n",
       "      <td>False</td>\n",
       "      <td>2</td>\n",
       "    </tr>\n",
       "    <tr>\n",
       "      <th>3</th>\n",
       "      <td>16.245322</td>\n",
       "      <td>3</td>\n",
       "      <td>False</td>\n",
       "      <td>False</td>\n",
       "      <td>True</td>\n",
       "      <td>False</td>\n",
       "      <td>True</td>\n",
       "      <td>True</td>\n",
       "      <td>True</td>\n",
       "      <td>0</td>\n",
       "    </tr>\n",
       "    <tr>\n",
       "      <th>4</th>\n",
       "      <td>9.700950</td>\n",
       "      <td>2</td>\n",
       "      <td>True</td>\n",
       "      <td>False</td>\n",
       "      <td>False</td>\n",
       "      <td>False</td>\n",
       "      <td>False</td>\n",
       "      <td>False</td>\n",
       "      <td>True</td>\n",
       "      <td>1</td>\n",
       "    </tr>\n",
       "  </tbody>\n",
       "</table>\n",
       "</div>"
      ],
      "text/plain": [
       "   start_time  weekday  chrome_browser  firefox_browser  mobile_device  \\\n",
       "0   13.788437        3           False             True           True   \n",
       "1   14.610714        3            True             True          False   \n",
       "2   15.762506        3            True             True          False   \n",
       "3   16.245322        3           False            False           True   \n",
       "4    9.700950        2            True            False          False   \n",
       "\n",
       "   1st_page_search  1st_page_faq  2nd_page_search  2nd_page_faq  TARGET_PAGE  \n",
       "0             True          True            False         False            1  \n",
       "1             True         False            False         False            2  \n",
       "2             True         False            False         False            2  \n",
       "3            False          True             True          True            0  \n",
       "4            False         False            False          True            1  "
      ]
     },
     "execution_count": 21,
     "metadata": {},
     "output_type": "execute_result"
    }
   ],
   "source": [
    "# iterate throug the columns I want to interpolate to booleans\n",
    "for col in [\n",
    "    'chrome_browser', 'firefox_browser', \n",
    "    'mobile_device', \n",
    "    '1st_page_search', '1st_page_faq', \n",
    "    '2nd_page_search', '2nd_page_faq'\n",
    "]:\n",
    "    # transform them to the boolean series\n",
    "    web_sesh_df[col] = web_sesh_df[col] >= web_sesh_df[col].median()\n",
    "\n",
    "web_sesh_df.head()"
   ]
  },
  {
   "cell_type": "code",
   "execution_count": null,
   "metadata": {},
   "outputs": [],
   "source": []
  }
 ],
 "metadata": {
  "kernelspec": {
   "display_name": "Python 3",
   "language": "python",
   "name": "python3"
  },
  "language_info": {
   "codemirror_mode": {
    "name": "ipython",
    "version": 3
   },
   "file_extension": ".py",
   "mimetype": "text/x-python",
   "name": "python",
   "nbconvert_exporter": "python",
   "pygments_lexer": "ipython3",
   "version": "3.7.7"
  }
 },
 "nbformat": 4,
 "nbformat_minor": 4
}
